{
 "cells": [
  {
   "cell_type": "markdown",
   "id": "127222d2",
   "metadata": {},
   "source": [
    "# Theoretische Grundlage\n",
    "\n",
    "Der Begriff des _Medialitätsbewusstseins_ (vgl. {cite:ps}`Groeben2002`, S. 166-192) begründet die Forderung nach Medienbildung als einem integralen Bestandteil der Allgemeinbildung.\n",
    "Demnach liefern Medien in der Regel konstruierte und inszenierte Ausschnitte aus der Wirklichkeit.\n",
    "Dadurch haben sie einen konstitutiven und wachsenden Anteil an der Generierung, Speicherung und Übermittlung von Informationen und Wissen.\n",
    "\n",
    "Grundlage der schulinternen Planungen bildet der [Medienkompetenzrahmen](https://www.schulministerium.nrw.de/docs/bp/Ministerium/Schulverwaltung/Schulmail/Archiv-2018/180626/Kontext/2018_Medienkompetenzrahmen_NRW.pdf) NRW der Landesregierung Nordrhein-Westfalen in der Fassung von März 2018 {cite:ps}`MKR2018`.\n",
    "Der Leitfaden orientiert sich an Dieter Baackes Kompetenzbegriff. {cite:ps}`Baacke1999`\n",
    "Demnach beruht der kompetente Umgang mit Medien auf vier Säulen: _Medienkritik_, _Medienkunde_, _Mediennutzung_ und _Mediengestaltung_.\n",
    "\n",
    "Die ersten beiden Aspekte fokussieren die Vermittlung von Medienkompetenz:\n",
    "\n",
    "1. _Medienkritik_ kombiniert die Analyse von gesellschaftlichen Prozessen in Bezug auf Medien sowie die Reflexion auf das eigene Handeln im Umgang mit Medien (Medien-Ethik). Ein wichtiger Bestandteil dieser Säule ist dem Thema „Verantwortungsvoller Umgang mit Medien“ gewidmet, der unter anderem Cybermobbing und Gefahren im Internet behandelt.\n",
    "2. _Medienkunde_ umfasst Wissen über historische und aktuelle Mediensysteme. Es wird die informative (reines Wissen) von der instrumentell-qualifikatorische (Fähigkeit zur Bedienung).\n",
    "\n",
    "Die letzten beiden Aspekte stellen die Handlung in den Mittelpunkt und sind damit zielorientiert:\n",
    "\n",
    "3. Bei der _Mediennutzung_ sollen Medien sowohl rezeptiv angewendet, als auch interaktiv angeboten werden.\n",
    "4. Zum Aspekt der _Mediengestaltung_ gehört die _innovative_ Veränderung und Entwicklung des Mediensystems und die _kreative_ Gestaltung von Medien.\n",
    "\n",
    "Ausgestaltet sind die Aspekte der allgemeinen Medienkompetenz im Kapitel Curriculum.\n",
    "Sie verzahnen dabei den Medienkompetenz-Rahmen NRW, den Medienpass NRW sowie die schulinternen Curricula der einzelnen Fächer.\n",
    "\n",
    "Eine besondere Rolle wird in Zukunft die Informatische Grundbildung in der Erprobungsstufe spielen.\n",
    "Neben dem den Lehrplänen des Landes werden soll die inhaltliche Gestaltung des schulinternen Lehrplans den internationalen [CSTA K–12 CS Standards](https://www.csteachers.org/page/about-csta-s-k-12-nbsp-standards) entsprechen {cite:ps}`CSTA2017`.\n",
    "\n",
    "<!--\n",
    "```{bibliography}\n",
    ":style: plain\n",
    "``` -->"
   ]
  }
 ],
 "metadata": {
  "jupytext": {
   "text_representation": {
    "extension": ".md",
    "format_name": "myst",
    "format_version": 0.13,
    "jupytext_version": "1.10.3"
   }
  },
  "kernelspec": {
   "display_name": "Python 3.9",
   "language": "python",
   "name": "python3"
  },
  "language_info": {
   "codemirror_mode": {
    "name": "ipython",
    "version": 3
   },
   "file_extension": ".py",
   "mimetype": "text/x-python",
   "name": "python",
   "nbconvert_exporter": "python",
   "pygments_lexer": "ipython3",
   "version": "3.9.7"
  },
  "source_map": [
   12
  ]
 },
 "nbformat": 4,
 "nbformat_minor": 5
}