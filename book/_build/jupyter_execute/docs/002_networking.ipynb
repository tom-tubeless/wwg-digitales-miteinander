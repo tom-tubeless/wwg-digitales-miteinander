{
 "cells": [
  {
   "cell_type": "markdown",
   "id": "4be825f1",
   "metadata": {},
   "source": [
    "# Netzwerke\n",
    "\n",
    "In diesem Kapitel wirst du selbst tätig.\n",
    "Mit dem Netzwerksimulator Filius kannst du die Grundlagen von Computer-Netzwerken auf dem eigenen Computer ausprobieren.\n",
    "Den Netzwerksimulator Filius gibt es für Windows, OSX und Linux.\n",
    "Du kannst Filius kostenlos unter [https://www.lernsoftware-filius.de](https://www.lernsoftware-filius.de) herunterladen und installieren.\n",
    "\n",
    "## Tipps beim Umgang mit Filius kont\n",
    "\n",
    "- Achte darauf, ob du die Arbeitsschritte im Entwurfsmodus ![](img/filius_entwurfsmodus.png) oder Aktionsmodus ![](img/filius_aktionsmodus.png) durchführen musst.\n",
    "\n",
    "- Verkleinere im Aktionsmodus das Hauptfenster so, dass die Desktop-Ansichten der einzelnen Geräte neben das Hauptfenster passen.\n",
    "\n",
    "* Benenne die Rechner nach ihrer Funktion und hänge einen Teil der IP-Adresse an (z.B. Webserver mit der IP-Adresse 192.168.0.3 bekommt den Namen „Webserver_0.3“).\n",
    "\n",
    "* Verwende zur besseren Übersicht für Clients („normale“ Rechner) immer das Notebook.\n",
    "\n",
    "* Verwende für Computer die eine Server-Funktion ausüben immer den Rechner.\n",
    "\n",
    "* Wenn du mehr als zwei Computer verbinden möchtest, benötigst du einen Switch.\n",
    "\n",
    "* Falls du zwei Netzwerke miteinander verbinden möchtest, benötigst du einen Vermittlungsrechner (Router).\n",
    "\n",
    "* Über Modems können Netze rechnerübergreifend verbunden werden.\n",
    "\n",
    "## Kleine LAN-Party: Verbindung von zwei Rechnern\n",
    "\n",
    "### Übung 1\n",
    "\n",
    "#### Entwurfsmodus\n",
    "\n",
    "1. Erstelle ein Netzwerk mit zwei vernetzten Clients („normale“ Rechner)\n",
    "2. Ändere Die Namen der Notebooks auf _Client_1_10_ und _Client_2_10_.\n",
    "\n",
    "#### Aktionsmodus\n",
    "\n",
    "3. Installiere auf _Client_1_10_ die _Befehlszeilenkonsole_\n",
    "4. Öffne die Befehlszeilenkonsole und trage folgenden Befehl ein: `ping 192.168.0.10`.\n",
    "5. Öffne mit einem Rechtsklick auf den entsprechenden Clienten _Datenaustausch anzeigen_.\n",
    "\n",
    "#### Fragen\n",
    "\n",
    "1. Was beobachtest du, wenn du dir die Befehlszeilenkonsole und die Datenaustausch-Fenster (Protokolle) beider Clients anschaust?\n",
    "2. Wieviele Pakete werden verschickt?\n",
    "3. Wieviele Pakete werden empfangen?\n",
    "4. Was ist im Datenaustausch-Fenster von Client 1_10 passiert?\n",
    "5. Was ist im Datenaustausch-Fenster von Client 2_10 passiert?\n",
    "\n",
    "### Ping erklärt\n",
    "\n",
    "Ping ist ein Diagnose-Programm, mit dem überprüft werden kann, ob ein bestimmtes Gerät in einem IP-Netzwerk erreichbar ist. Daneben es auch die Zeitspanne zwischen dem Aussenden eines Paketes zu diesem Host und dem Empfangen eines daraufhin unmittelbar zurückgeschickten Antwortpaketes an (= Paketumlaufzeit, meist round trip time oder RTT genannt). Das Programm wird üblicherweise als Konsolenbefehl ausgeführt.\n",
    "\n",
    "<a href=\"http://www.youtube.com/watch?feature=player_embedded&v=y6GRa4skFtU\n",
    "\" target=\"_blank\"><img src=\"http://img.youtube.com/vi/y6GRa4skFtU/0.jpg\" \n",
    "alt=\"Ping\" width=\"800\" border=\"10\" /></a>"
   ]
  }
 ],
 "metadata": {
  "jupytext": {
   "text_representation": {
    "extension": ".md",
    "format_name": "myst",
    "format_version": 0.13,
    "jupytext_version": "1.10.3"
   }
  },
  "kernelspec": {
   "display_name": "Python 3.9",
   "language": "python",
   "name": "python3"
  },
  "language_info": {
   "codemirror_mode": {
    "name": "ipython",
    "version": 3
   },
   "file_extension": ".py",
   "mimetype": "text/x-python",
   "name": "python",
   "nbconvert_exporter": "python",
   "pygments_lexer": "ipython3",
   "version": "3.9.7"
  },
  "source_map": [
   12
  ]
 },
 "nbformat": 4,
 "nbformat_minor": 5
}