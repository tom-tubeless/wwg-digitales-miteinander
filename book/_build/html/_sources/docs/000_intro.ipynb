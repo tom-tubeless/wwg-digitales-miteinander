{
 "cells": [
  {
   "cell_type": "markdown",
   "id": "08623749",
   "metadata": {},
   "source": [
    "# Konzept für digitales Miteinander\n",
    "\n",
    "Dieses Konzept beinhaltet mehr als ein übliches Medienkonzept.\n",
    "Es ist vielmehr ein [Whitepaper](https://en.wikipedia.org/wiki/White_paper), dass eine Übersicht über die Intentionen, Leistungen, Standards und technischen Stand des [Städtischen Wim-Wenders-Gymnasiums](https://ww-gym.de) gibt."
   ]
  }
 ],
 "metadata": {
  "jupytext": {
   "text_representation": {
    "extension": ".md",
    "format_name": "myst",
    "format_version": 0.13,
    "jupytext_version": "1.10.3"
   }
  },
  "kernelspec": {
   "display_name": "Python 3.9",
   "language": "python",
   "name": "python3"
  },
  "language_info": {
   "codemirror_mode": {
    "name": "ipython",
    "version": 3
   },
   "file_extension": ".py",
   "mimetype": "text/x-python",
   "name": "python",
   "nbconvert_exporter": "python",
   "pygments_lexer": "ipython3",
   "version": "3.9.7"
  },
  "source_map": [
   12
  ]
 },
 "nbformat": 4,
 "nbformat_minor": 5
}