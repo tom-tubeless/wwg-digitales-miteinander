{
 "cells": [
  {
   "cell_type": "code",
   "execution_count": 1,
   "id": "c441bd01",
   "metadata": {
    "tags": [
     "remove-input"
    ]
   },
   "outputs": [
    {
     "data": {
      "text/html": [
       "<div>\n",
       "<style scoped>\n",
       "    .dataframe tbody tr th:only-of-type {\n",
       "        vertical-align: middle;\n",
       "    }\n",
       "\n",
       "    .dataframe tbody tr th {\n",
       "        vertical-align: top;\n",
       "    }\n",
       "\n",
       "    .dataframe thead th {\n",
       "        text-align: right;\n",
       "    }\n",
       "</style>\n",
       "<table border=\"1\" class=\"dataframe\">\n",
       "  <thead>\n",
       "    <tr style=\"text-align: right;\">\n",
       "      <th></th>\n",
       "      <th>Unterrichtsvorhaben</th>\n",
       "      <th>Inhaltsfelder\\nInhaltliche Schwerpunkte</th>\n",
       "      <th>Schwerpunkte der\\nKompetenzentwicklung</th>\n",
       "      <th>Weitere Vereinbarungen</th>\n",
       "    </tr>\n",
       "  </thead>\n",
       "  <tbody>\n",
       "    <tr>\n",
       "      <th>0</th>\n",
       "      <td>UV 6.1: Die Biologie erforscht das \\nLeben\\n\\n...</td>\n",
       "      <td>IF1: \\nVielfalt und Angepasstheiten von Lebewe...</td>\n",
       "      <td>UF3: Ordnung und Systematisierung\\nKriterien a...</td>\n",
       "      <td>…zur Schwerpunktsetzung\\nEinführung des Zellbe...</td>\n",
       "    </tr>\n",
       "    <tr>\n",
       "      <th>1</th>\n",
       "      <td>UV 6.2:\\nAtmung und Blutkreislauf – Nahrungsau...</td>\n",
       "      <td>IF2: \\nMensch und Gesundheit\\nAtmung und Blutk...</td>\n",
       "      <td>UF4: Übertragung und Vernetzung\\nAlltagsvorste...</td>\n",
       "      <td>…zur Schwerpunktsetzung\\nEinfache Experimente ...</td>\n",
       "    </tr>\n",
       "  </tbody>\n",
       "</table>\n",
       "</div>"
      ],
      "text/plain": [
       "                                 Unterrichtsvorhaben  \\\n",
       "0  UV 6.1: Die Biologie erforscht das \\nLeben\\n\\n...   \n",
       "1  UV 6.2:\\nAtmung und Blutkreislauf – Nahrungsau...   \n",
       "\n",
       "             Inhaltsfelder\\nInhaltliche Schwerpunkte  \\\n",
       "0  IF1: \\nVielfalt und Angepasstheiten von Lebewe...   \n",
       "1  IF2: \\nMensch und Gesundheit\\nAtmung und Blutk...   \n",
       "\n",
       "              Schwerpunkte der\\nKompetenzentwicklung  \\\n",
       "0  UF3: Ordnung und Systematisierung\\nKriterien a...   \n",
       "1  UF4: Übertragung und Vernetzung\\nAlltagsvorste...   \n",
       "\n",
       "                              Weitere Vereinbarungen  \n",
       "0  …zur Schwerpunktsetzung\\nEinführung des Zellbe...  \n",
       "1  …zur Schwerpunktsetzung\\nEinfache Experimente ...  "
      ]
     },
     "execution_count": 1,
     "metadata": {},
     "output_type": "execute_result"
    }
   ],
   "source": [
    "import pandas as px\n",
    "bio_g9_05 = px.read_excel(\"bio_g9_05.xlsx\")\n",
    "bio_g9_05.head()"
   ]
  }
 ],
 "metadata": {
  "jupytext": {
   "text_representation": {
    "extension": ".md",
    "format_name": "myst",
    "format_version": 0.13,
    "jupytext_version": "1.10.3"
   }
  },
  "kernelspec": {
   "display_name": "Python 3.9",
   "language": "python",
   "name": "python3"
  },
  "language_info": {
   "codemirror_mode": {
    "name": "ipython",
    "version": 3
   },
   "file_extension": ".py",
   "mimetype": "text/x-python",
   "name": "python",
   "nbconvert_exporter": "python",
   "pygments_lexer": "ipython3",
   "version": "3.9.7"
  },
  "source_map": [
   12,
   16
  ]
 },
 "nbformat": 4,
 "nbformat_minor": 5
}