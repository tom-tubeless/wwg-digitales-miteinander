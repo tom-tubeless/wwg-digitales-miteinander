{
 "cells": [
  {
   "cell_type": "markdown",
   "id": "8d30c280",
   "metadata": {},
   "source": [
    "# Linux-Server-Management\n",
    "\n",
    "Unterrichtsplanung, -inhalte und -materialien für Linux-Server-Management am Wim-Wenders-Gymnasium Düsseldorf."
   ]
  }
 ],
 "metadata": {
  "jupytext": {
   "text_representation": {
    "extension": ".md",
    "format_name": "myst",
    "format_version": 0.13,
    "jupytext_version": "1.10.3"
   }
  },
  "kernelspec": {
   "display_name": "Python 3.9",
   "language": "python",
   "name": "python3"
  },
  "language_info": {
   "codemirror_mode": {
    "name": "ipython",
    "version": 3
   },
   "file_extension": ".py",
   "mimetype": "text/x-python",
   "name": "python",
   "nbconvert_exporter": "python",
   "pygments_lexer": "ipython3",
   "version": "3.9.7"
  },
  "source_map": [
   12
  ]
 },
 "nbformat": 4,
 "nbformat_minor": 5
}