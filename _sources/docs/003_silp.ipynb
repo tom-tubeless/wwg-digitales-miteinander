{
 "cells": [
  {
   "cell_type": "markdown",
   "id": "6bbef2e5",
   "metadata": {},
   "source": [
    "# Schulinterner Lehrplan (SiLP)\n",
    "\n",
    "## Kompetenzbereiche & Fächerübergreifende Umsetzung\n",
    "\n",
    "Für die praktische Umsetzung des Prozesses der Medienkompetenzentwicklung am Wim-Wenders-Gymnasium werden sechs Kompetenzbereiche betrachtet.\n",
    "Diese formulieren jeweils vier Teilkompetenzen. {cite:ps}`MKR2018`\n",
    "Die Kompetenzbereiche weisen vielfältige Wechselbeziehungen und Zusammenhänge auf.\n",
    "\n",
    "### <span style=\"color:#b8bb26\">1. Bedienen und Anwenden</span>\n",
    "\n",
    "1. Medienausstattung (Hardware)\n",
    "2. Digitale Werkzeuge\n",
    "3. Datenorganisation\n",
    "4. Datenschutz und Informationssicherheit\n",
    "\n",
    "### <span style=\"color:#8ec07c\">2. Informieren und Recherchieren</span>\n",
    "\n",
    "1. Informationsrecherche\n",
    "2. Informationsauswertung\n",
    "3. Informationsbewertung\n",
    "4. Informationskritik\n",
    "\n",
    "### <span style=\"color:#83a598\">3. Kommunizieren und Kooperieren</span>\n",
    "\n",
    "1. Kommunikations- und Kooperationsprozesse\n",
    "2. Kommunikations- und Kooperationsregeln\n",
    "3. Kommunikation und Kooperation in der Gesellschaft\n",
    "4. Cybergewalt und -kriminalität\n",
    "\n",
    "### <span style=\"color:#d3869b\">4. Produzieren und Präsentieren</span>\n",
    "\n",
    "1. Medienproduktion und Präsentation\n",
    "2. Gestaltungsmittel\n",
    "3. Quellendokumentation\n",
    "4. Rechtliche Grundlagen\n",
    "\n",
    "### <span style=\"color:#fb4934\">5. Analysieren und Reflektieren</span>\n",
    "\n",
    "1. Medienanalyse\n",
    "2. Meinungsbildung\n",
    "3. Identitätsbildung\n",
    "4. Selbstregulierte Mediennutzung\n",
    "\n",
    "### <span style=\"color:#f7b125\">6. Problemlösen und Modellieren</span>\n",
    "\n",
    "1. Prinzipien der digitalen Welt\n",
    "2. Algorithmen erkennen\n",
    "3. Modellieren und Programmieren\n",
    "4. Bedeutung von Algorithmen\n",
    "\n",
    "Überschneidungen der einzelnen Teilbereiche sind nicht nur unvermeidbar, sondern in unserer schulischen Praxis - etwa für die Formulierung von fachübergreifenden Aufgabenstellungen - durchaus hilfreich und erwünscht.\n",
    "\n",
    "In den schulinternen Lerhplänen werden die Kompetenzbereiche für die Doppeljahrgänge 5/6, 7/8 und 9/10 inhaltlich und methodisch konkretisiert.\n",
    "Zudem wird die Anbindung der Inhalte an die Schulfächer (basierend auf Rückmeldungen aus den Fachgruppen) verdeutlicht.\n",
    "Wenn möglich werden Hardware-, Software- und Applikationsvorschläge ergänzt.\n",
    "\n",
    "Grundlage für die Konkretisierungen bieten Werkzeuge wie die digitale [Jahrgangspartitur](https://partitur.ww-gym.de) des Wim-Wenders-Gymnasiums.\n",
    "Alle Fachschaften haben ihre SiLPs digitalisiert und vereinheitlicht.\n",
    "Fachübergreifende Kompetenzrahmen, wie die für Methoden- oder Medienkompetenz, werden als „Rote Fäden“ darüber gelegt und werden als konkrete Umsetzungsvorschläge in Abstimmung mit den Fachkonferenzen verbindlich vereinbart.\n",
    "Dieser _Digitale Kanon_ wird fortschreitend evaluiert und optimiert.\n",
    "\n",
    "<!-- Ein Beispiel ist für zwei Jahrgänge in Tabelle \\ref{tab:bio} (Seite \\pageref{tab:bio}) dargestellt. -->"
   ]
  }
 ],
 "metadata": {
  "jupytext": {
   "text_representation": {
    "extension": ".md",
    "format_name": "myst",
    "format_version": 0.13,
    "jupytext_version": "1.10.3"
   }
  },
  "kernelspec": {
   "display_name": "Python 3.9",
   "language": "python",
   "name": "python3"
  },
  "language_info": {
   "codemirror_mode": {
    "name": "ipython",
    "version": 3
   },
   "file_extension": ".py",
   "mimetype": "text/x-python",
   "name": "python",
   "nbconvert_exporter": "python",
   "pygments_lexer": "ipython3",
   "version": "3.9.7"
  },
  "source_map": [
   12
  ]
 },
 "nbformat": 4,
 "nbformat_minor": 5
}